{
 "cells": [
  {
   "cell_type": "markdown",
   "id": "a7f309d8-bb3a-4c21-b4eb-d801c53c118f",
   "metadata": {},
   "source": [
    "**Apriori**"
   ]
  },
  {
   "cell_type": "markdown",
   "id": "c9e85e33-ce67-45ed-9a47-47f86eea2425",
   "metadata": {},
   "source": [
    "**importing the libraries**"
   ]
  },
  {
   "cell_type": "code",
   "execution_count": 2,
   "id": "748e046b-8912-4615-b99a-e912a91058d3",
   "metadata": {},
   "outputs": [],
   "source": [
    "!pip install apyori"
   ]
  },
  {
   "cell_type": "code",
   "execution_count": 3,
   "id": "10e76b6c-c9ad-462c-a620-0860e7271235",
   "metadata": {},
   "outputs": [],
   "source": [
    "import numpy as np\n",
    "import pandas as pd\n",
    "import seaborn as sns\n",
    "import matplotlib.pyplot as plt"
   ]
  },
  {
   "cell_type": "markdown",
   "id": "1f7db4ef-53a5-4e92-9bb1-5e8a1ada6877",
   "metadata": {},
   "source": [
    "**Data Preprocessing**"
   ]
  },
  {
   "cell_type": "code",
   "execution_count": 44,
   "id": "ca6c33c8-e602-4687-8d71-6a6cc73310b1",
   "metadata": {},
   "outputs": [
    {
     "data": {
      "text/html": [
       "<div>\n",
       "<style scoped>\n",
       "    .dataframe tbody tr th:only-of-type {\n",
       "        vertical-align: middle;\n",
       "    }\n",
       "\n",
       "    .dataframe tbody tr th {\n",
       "        vertical-align: top;\n",
       "    }\n",
       "\n",
       "    .dataframe thead th {\n",
       "        text-align: right;\n",
       "    }\n",
       "</style>\n",
       "<table border=\"1\" class=\"dataframe\">\n",
       "  <thead>\n",
       "    <tr style=\"text-align: right;\">\n",
       "      <th></th>\n",
       "      <th>0</th>\n",
       "      <th>1</th>\n",
       "      <th>2</th>\n",
       "      <th>3</th>\n",
       "      <th>4</th>\n",
       "      <th>5</th>\n",
       "      <th>6</th>\n",
       "      <th>7</th>\n",
       "      <th>8</th>\n",
       "      <th>9</th>\n",
       "      <th>10</th>\n",
       "      <th>11</th>\n",
       "      <th>12</th>\n",
       "      <th>13</th>\n",
       "      <th>14</th>\n",
       "      <th>15</th>\n",
       "      <th>16</th>\n",
       "      <th>17</th>\n",
       "      <th>18</th>\n",
       "      <th>19</th>\n",
       "    </tr>\n",
       "  </thead>\n",
       "  <tbody>\n",
       "    <tr>\n",
       "      <th>7496</th>\n",
       "      <td>butter</td>\n",
       "      <td>light mayo</td>\n",
       "      <td>fresh bread</td>\n",
       "      <td>NaN</td>\n",
       "      <td>NaN</td>\n",
       "      <td>NaN</td>\n",
       "      <td>NaN</td>\n",
       "      <td>NaN</td>\n",
       "      <td>NaN</td>\n",
       "      <td>NaN</td>\n",
       "      <td>NaN</td>\n",
       "      <td>NaN</td>\n",
       "      <td>NaN</td>\n",
       "      <td>NaN</td>\n",
       "      <td>NaN</td>\n",
       "      <td>NaN</td>\n",
       "      <td>NaN</td>\n",
       "      <td>NaN</td>\n",
       "      <td>NaN</td>\n",
       "      <td>NaN</td>\n",
       "    </tr>\n",
       "    <tr>\n",
       "      <th>7497</th>\n",
       "      <td>burgers</td>\n",
       "      <td>frozen vegetables</td>\n",
       "      <td>eggs</td>\n",
       "      <td>french fries</td>\n",
       "      <td>magazines</td>\n",
       "      <td>green tea</td>\n",
       "      <td>NaN</td>\n",
       "      <td>NaN</td>\n",
       "      <td>NaN</td>\n",
       "      <td>NaN</td>\n",
       "      <td>NaN</td>\n",
       "      <td>NaN</td>\n",
       "      <td>NaN</td>\n",
       "      <td>NaN</td>\n",
       "      <td>NaN</td>\n",
       "      <td>NaN</td>\n",
       "      <td>NaN</td>\n",
       "      <td>NaN</td>\n",
       "      <td>NaN</td>\n",
       "      <td>NaN</td>\n",
       "    </tr>\n",
       "    <tr>\n",
       "      <th>7498</th>\n",
       "      <td>chicken</td>\n",
       "      <td>NaN</td>\n",
       "      <td>NaN</td>\n",
       "      <td>NaN</td>\n",
       "      <td>NaN</td>\n",
       "      <td>NaN</td>\n",
       "      <td>NaN</td>\n",
       "      <td>NaN</td>\n",
       "      <td>NaN</td>\n",
       "      <td>NaN</td>\n",
       "      <td>NaN</td>\n",
       "      <td>NaN</td>\n",
       "      <td>NaN</td>\n",
       "      <td>NaN</td>\n",
       "      <td>NaN</td>\n",
       "      <td>NaN</td>\n",
       "      <td>NaN</td>\n",
       "      <td>NaN</td>\n",
       "      <td>NaN</td>\n",
       "      <td>NaN</td>\n",
       "    </tr>\n",
       "    <tr>\n",
       "      <th>7499</th>\n",
       "      <td>escalope</td>\n",
       "      <td>green tea</td>\n",
       "      <td>NaN</td>\n",
       "      <td>NaN</td>\n",
       "      <td>NaN</td>\n",
       "      <td>NaN</td>\n",
       "      <td>NaN</td>\n",
       "      <td>NaN</td>\n",
       "      <td>NaN</td>\n",
       "      <td>NaN</td>\n",
       "      <td>NaN</td>\n",
       "      <td>NaN</td>\n",
       "      <td>NaN</td>\n",
       "      <td>NaN</td>\n",
       "      <td>NaN</td>\n",
       "      <td>NaN</td>\n",
       "      <td>NaN</td>\n",
       "      <td>NaN</td>\n",
       "      <td>NaN</td>\n",
       "      <td>NaN</td>\n",
       "    </tr>\n",
       "    <tr>\n",
       "      <th>7500</th>\n",
       "      <td>eggs</td>\n",
       "      <td>frozen smoothie</td>\n",
       "      <td>yogurt cake</td>\n",
       "      <td>low fat yogurt</td>\n",
       "      <td>NaN</td>\n",
       "      <td>NaN</td>\n",
       "      <td>NaN</td>\n",
       "      <td>NaN</td>\n",
       "      <td>NaN</td>\n",
       "      <td>NaN</td>\n",
       "      <td>NaN</td>\n",
       "      <td>NaN</td>\n",
       "      <td>NaN</td>\n",
       "      <td>NaN</td>\n",
       "      <td>NaN</td>\n",
       "      <td>NaN</td>\n",
       "      <td>NaN</td>\n",
       "      <td>NaN</td>\n",
       "      <td>NaN</td>\n",
       "      <td>NaN</td>\n",
       "    </tr>\n",
       "  </tbody>\n",
       "</table>\n",
       "</div>"
      ],
      "text/plain": [
       "            0                  1            2               3          4   \\\n",
       "7496    butter         light mayo  fresh bread             NaN        NaN   \n",
       "7497   burgers  frozen vegetables         eggs    french fries  magazines   \n",
       "7498   chicken                NaN          NaN             NaN        NaN   \n",
       "7499  escalope          green tea          NaN             NaN        NaN   \n",
       "7500      eggs    frozen smoothie  yogurt cake  low fat yogurt        NaN   \n",
       "\n",
       "             5    6    7    8    9    10   11   12   13   14   15   16   17  \\\n",
       "7496        NaN  NaN  NaN  NaN  NaN  NaN  NaN  NaN  NaN  NaN  NaN  NaN  NaN   \n",
       "7497  green tea  NaN  NaN  NaN  NaN  NaN  NaN  NaN  NaN  NaN  NaN  NaN  NaN   \n",
       "7498        NaN  NaN  NaN  NaN  NaN  NaN  NaN  NaN  NaN  NaN  NaN  NaN  NaN   \n",
       "7499        NaN  NaN  NaN  NaN  NaN  NaN  NaN  NaN  NaN  NaN  NaN  NaN  NaN   \n",
       "7500        NaN  NaN  NaN  NaN  NaN  NaN  NaN  NaN  NaN  NaN  NaN  NaN  NaN   \n",
       "\n",
       "       18   19  \n",
       "7496  NaN  NaN  \n",
       "7497  NaN  NaN  \n",
       "7498  NaN  NaN  \n",
       "7499  NaN  NaN  \n",
       "7500  NaN  NaN  "
      ]
     },
     "execution_count": 44,
     "metadata": {},
     "output_type": "execute_result"
    }
   ],
   "source": [
    "data= pd.read_csv('Market_Basket_Optimisation.csv',header=None)\n",
    "data.tail()"
   ]
  },
  {
   "cell_type": "code",
   "execution_count": 47,
   "id": "b02241be-1918-40cd-a81e-546bebd767fc",
   "metadata": {},
   "outputs": [],
   "source": [
    "transactions =[]\n",
    "row = len(data)\n",
    "\n",
    "for transaction in range(row):\n",
    "    items = list(data.iloc[transaction,:])\n",
    "    transactions.append([x for x in items if isinstance(x,str)])\n",
    "        "
   ]
  },
  {
   "cell_type": "markdown",
   "id": "fcd379b0-dc58-40dc-bec2-8646dac1b09d",
   "metadata": {},
   "source": [
    "**Training the Apriori model on the dataset**"
   ]
  },
  {
   "cell_type": "code",
   "execution_count": 64,
   "id": "ccdb6fdb-3b64-4c75-a3dd-04000f98cd0a",
   "metadata": {},
   "outputs": [],
   "source": [
    "from apyori import apriori\n",
    "\n",
    "minimum_count =3       # Assuming we want the items to show up at least 3 times in all daily transaction \n",
    "days_of_week=7\n",
    "total_week_transaction= len(data)  # the table contains total transaction for the week\n",
    "min_support = minimum_count*days_of_week/total_week_transaction\n",
    "\n",
    "rules = apriori(transactions=transactions,\n",
    "               min_support=min_support,\n",
    "               min_confidence=.3,\n",
    "               min_lift=3,\n",
    "               max_length=2)"
   ]
  },
  {
   "cell_type": "markdown",
   "id": "6be7622c-c606-4f2c-8c6e-9590c27e3012",
   "metadata": {},
   "source": [
    "**Visualising the results**"
   ]
  },
  {
   "cell_type": "markdown",
   "id": "ce95d4c0-93aa-4b48-86e7-0352a824e27c",
   "metadata": {},
   "source": [
    "**Displaying the first reults coming directly from the output of the apriori function**"
   ]
  },
  {
   "cell_type": "code",
   "execution_count": 65,
   "id": "86507a9b-54ac-46ed-bf45-4704b29c12a7",
   "metadata": {},
   "outputs": [
    {
     "data": {
      "text/plain": [
       "[RelationRecord(items=frozenset({'mushroom cream sauce', 'escalope'}), support=0.005732568990801226, ordered_statistics=[OrderedStatistic(items_base=frozenset({'mushroom cream sauce'}), items_add=frozenset({'escalope'}), confidence=0.3006993006993007, lift=3.790832696715049)]),\n",
       " RelationRecord(items=frozenset({'escalope', 'pasta'}), support=0.005865884548726837, ordered_statistics=[OrderedStatistic(items_base=frozenset({'pasta'}), items_add=frozenset({'escalope'}), confidence=0.3728813559322034, lift=4.700811850163794)]),\n",
       " RelationRecord(items=frozenset({'ground beef', 'herb & pepper'}), support=0.015997866951073192, ordered_statistics=[OrderedStatistic(items_base=frozenset({'herb & pepper'}), items_add=frozenset({'ground beef'}), confidence=0.3234501347708895, lift=3.2919938411349285)]),\n",
       " RelationRecord(items=frozenset({'ground beef', 'tomato sauce'}), support=0.005332622317024397, ordered_statistics=[OrderedStatistic(items_base=frozenset({'tomato sauce'}), items_add=frozenset({'ground beef'}), confidence=0.3773584905660377, lift=3.840659481324083)]),\n",
       " RelationRecord(items=frozenset({'pasta', 'shrimp'}), support=0.005065991201173177, ordered_statistics=[OrderedStatistic(items_base=frozenset({'pasta'}), items_add=frozenset({'shrimp'}), confidence=0.3220338983050847, lift=4.506672147735896)])]"
      ]
     },
     "execution_count": 65,
     "metadata": {},
     "output_type": "execute_result"
    }
   ],
   "source": [
    "results = list(rules)\n",
    "results"
   ]
  },
  {
   "cell_type": "markdown",
   "id": "41ef53e2-44a6-4173-b33d-b5a1190dac61",
   "metadata": {},
   "source": [
    "**Putting the results well organized into a Pandas Dataframe**"
   ]
  },
  {
   "cell_type": "code",
   "execution_count": 193,
   "id": "983857cb-0d5b-4557-b98e-810f627c0735",
   "metadata": {},
   "outputs": [],
   "source": [
    "table = {\n",
    "'base_item' : [tuple(r[-1][0][0])[0] for r in results],\n",
    "'added_item': [list(r[-1][0][1])[0] for r in results],\n",
    "'support' : [r[1] for r in results],\n",
    "'confidence' : [r[-1][0][2] for r in results],\n",
    "'lift': [r[-1][-1][-1] for r in results]\n",
    "}\n",
    "resultsinDataFrame = pd.DataFrame(table)"
   ]
  },
  {
   "cell_type": "markdown",
   "id": "b6cfc7c4-4c09-4822-b5cf-974f960d2765",
   "metadata": {},
   "source": [
    "**Displaying the result non sorted**"
   ]
  },
  {
   "cell_type": "code",
   "execution_count": 194,
   "id": "1e28ac6c-fbac-4a07-b874-c403c9bc427a",
   "metadata": {},
   "outputs": [
    {
     "data": {
      "text/html": [
       "<div>\n",
       "<style scoped>\n",
       "    .dataframe tbody tr th:only-of-type {\n",
       "        vertical-align: middle;\n",
       "    }\n",
       "\n",
       "    .dataframe tbody tr th {\n",
       "        vertical-align: top;\n",
       "    }\n",
       "\n",
       "    .dataframe thead th {\n",
       "        text-align: right;\n",
       "    }\n",
       "</style>\n",
       "<table border=\"1\" class=\"dataframe\">\n",
       "  <thead>\n",
       "    <tr style=\"text-align: right;\">\n",
       "      <th></th>\n",
       "      <th>base_item</th>\n",
       "      <th>added_item</th>\n",
       "      <th>support</th>\n",
       "      <th>confidence</th>\n",
       "      <th>lift</th>\n",
       "    </tr>\n",
       "  </thead>\n",
       "  <tbody>\n",
       "    <tr>\n",
       "      <th>0</th>\n",
       "      <td>mushroom cream sauce</td>\n",
       "      <td>escalope</td>\n",
       "      <td>0.005733</td>\n",
       "      <td>0.300699</td>\n",
       "      <td>3.790833</td>\n",
       "    </tr>\n",
       "    <tr>\n",
       "      <th>1</th>\n",
       "      <td>pasta</td>\n",
       "      <td>escalope</td>\n",
       "      <td>0.005866</td>\n",
       "      <td>0.372881</td>\n",
       "      <td>4.700812</td>\n",
       "    </tr>\n",
       "    <tr>\n",
       "      <th>2</th>\n",
       "      <td>herb &amp; pepper</td>\n",
       "      <td>ground beef</td>\n",
       "      <td>0.015998</td>\n",
       "      <td>0.323450</td>\n",
       "      <td>3.291994</td>\n",
       "    </tr>\n",
       "    <tr>\n",
       "      <th>3</th>\n",
       "      <td>tomato sauce</td>\n",
       "      <td>ground beef</td>\n",
       "      <td>0.005333</td>\n",
       "      <td>0.377358</td>\n",
       "      <td>3.840659</td>\n",
       "    </tr>\n",
       "    <tr>\n",
       "      <th>4</th>\n",
       "      <td>pasta</td>\n",
       "      <td>shrimp</td>\n",
       "      <td>0.005066</td>\n",
       "      <td>0.322034</td>\n",
       "      <td>4.506672</td>\n",
       "    </tr>\n",
       "  </tbody>\n",
       "</table>\n",
       "</div>"
      ],
      "text/plain": [
       "              base_item   added_item   support  confidence      lift\n",
       "0  mushroom cream sauce     escalope  0.005733    0.300699  3.790833\n",
       "1                 pasta     escalope  0.005866    0.372881  4.700812\n",
       "2         herb & pepper  ground beef  0.015998    0.323450  3.291994\n",
       "3          tomato sauce  ground beef  0.005333    0.377358  3.840659\n",
       "4                 pasta       shrimp  0.005066    0.322034  4.506672"
      ]
     },
     "execution_count": 194,
     "metadata": {},
     "output_type": "execute_result"
    }
   ],
   "source": [
    "resultsinDataFrame"
   ]
  },
  {
   "cell_type": "markdown",
   "id": "1e13b974-adff-4e8c-98f2-719fa67b4f2b",
   "metadata": {},
   "source": [
    "**Displaying the result sorted by descending lift**"
   ]
  },
  {
   "cell_type": "code",
   "execution_count": 198,
   "id": "2f70629a-6cfc-4c76-a406-b14e598e652a",
   "metadata": {},
   "outputs": [
    {
     "data": {
      "text/html": [
       "<div>\n",
       "<style scoped>\n",
       "    .dataframe tbody tr th:only-of-type {\n",
       "        vertical-align: middle;\n",
       "    }\n",
       "\n",
       "    .dataframe tbody tr th {\n",
       "        vertical-align: top;\n",
       "    }\n",
       "\n",
       "    .dataframe thead th {\n",
       "        text-align: right;\n",
       "    }\n",
       "</style>\n",
       "<table border=\"1\" class=\"dataframe\">\n",
       "  <thead>\n",
       "    <tr style=\"text-align: right;\">\n",
       "      <th></th>\n",
       "      <th>base_item</th>\n",
       "      <th>added_item</th>\n",
       "      <th>support</th>\n",
       "      <th>confidence</th>\n",
       "      <th>lift</th>\n",
       "    </tr>\n",
       "  </thead>\n",
       "  <tbody>\n",
       "    <tr>\n",
       "      <th>0</th>\n",
       "      <td>pasta</td>\n",
       "      <td>escalope</td>\n",
       "      <td>0.005866</td>\n",
       "      <td>0.372881</td>\n",
       "      <td>4.700812</td>\n",
       "    </tr>\n",
       "    <tr>\n",
       "      <th>1</th>\n",
       "      <td>pasta</td>\n",
       "      <td>shrimp</td>\n",
       "      <td>0.005066</td>\n",
       "      <td>0.322034</td>\n",
       "      <td>4.506672</td>\n",
       "    </tr>\n",
       "    <tr>\n",
       "      <th>2</th>\n",
       "      <td>tomato sauce</td>\n",
       "      <td>ground beef</td>\n",
       "      <td>0.005333</td>\n",
       "      <td>0.377358</td>\n",
       "      <td>3.840659</td>\n",
       "    </tr>\n",
       "    <tr>\n",
       "      <th>3</th>\n",
       "      <td>mushroom cream sauce</td>\n",
       "      <td>escalope</td>\n",
       "      <td>0.005733</td>\n",
       "      <td>0.300699</td>\n",
       "      <td>3.790833</td>\n",
       "    </tr>\n",
       "    <tr>\n",
       "      <th>4</th>\n",
       "      <td>herb &amp; pepper</td>\n",
       "      <td>ground beef</td>\n",
       "      <td>0.015998</td>\n",
       "      <td>0.323450</td>\n",
       "      <td>3.291994</td>\n",
       "    </tr>\n",
       "  </tbody>\n",
       "</table>\n",
       "</div>"
      ],
      "text/plain": [
       "              base_item   added_item   support  confidence      lift\n",
       "0                 pasta     escalope  0.005866    0.372881  4.700812\n",
       "1                 pasta       shrimp  0.005066    0.322034  4.506672\n",
       "2          tomato sauce  ground beef  0.005333    0.377358  3.840659\n",
       "3  mushroom cream sauce     escalope  0.005733    0.300699  3.790833\n",
       "4         herb & pepper  ground beef  0.015998    0.323450  3.291994"
      ]
     },
     "execution_count": 198,
     "metadata": {},
     "output_type": "execute_result"
    }
   ],
   "source": [
    "resultsinDataFrame.sort_values(['lift'],ascending=False).reset_index(drop=True)"
   ]
  },
  {
   "cell_type": "code",
   "execution_count": null,
   "id": "abf75c60-192d-488a-a8b0-c96e4d7576fb",
   "metadata": {},
   "outputs": [],
   "source": []
  }
 ],
 "metadata": {
  "kernelspec": {
   "display_name": "Python 3 (ipykernel)",
   "language": "python",
   "name": "python3"
  },
  "language_info": {
   "codemirror_mode": {
    "name": "ipython",
    "version": 3
   },
   "file_extension": ".py",
   "mimetype": "text/x-python",
   "name": "python",
   "nbconvert_exporter": "python",
   "pygments_lexer": "ipython3",
   "version": "3.12.4"
  }
 },
 "nbformat": 4,
 "nbformat_minor": 5
}
